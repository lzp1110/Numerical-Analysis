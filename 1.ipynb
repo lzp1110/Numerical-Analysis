{
 "cells": [
  {
   "cell_type": "code",
   "execution_count": 16,
   "outputs": [
    {
     "data": {
      "text/plain": "array([-0.0504655 ,  1.3122362 , -0.41769776])"
     },
     "execution_count": 16,
     "metadata": {},
     "output_type": "execute_result"
    }
   ],
   "source": [
    "import sympy as sp\n",
    "import numpy as np\n",
    "pi=np.pi\n",
    "# 定义符号变量\n",
    "x = sp.symbols('x')\n",
    "def K(i,j):\n",
    "    a=x**(i+j)\n",
    "    integral = sp.integrate(a, (x, 0, pi))\n",
    "    return integral\n",
    "n=3\n",
    "A=np.zeros((n,n))\n",
    "for i in range(n):\n",
    "    for j in range(n):\n",
    "        A[i,j]=K(i,j)\n",
    "def Y(i):\n",
    "    a=sp.sin(x)*(x**i)\n",
    "    integral=sp.integrate(a, (x, 0, pi))\n",
    "    return integral\n",
    "b=np.zeros(n)\n",
    "for i in range(n):\n",
    "    b[i]=Y(i)\n",
    "np.linalg.inv(A)@b\n",
    "#1,x,x*x，x^3为基地得到的系数"
   ],
   "metadata": {
    "collapsed": false
   }
  },
  {
   "cell_type": "code",
   "execution_count": 18,
   "outputs": [
    {
     "data": {
      "text/plain": "array([ 0.63661977,  0.        , -0.68708527])"
     },
     "execution_count": 18,
     "metadata": {},
     "output_type": "execute_result"
    }
   ],
   "source": [
    "import sympy as sp\n",
    "import numpy as np\n",
    "# 定义符号变量\n",
    "x = sp.symbols('x')\n",
    "\n",
    "n=3\n",
    "A=np.zeros((n,n))\n",
    "for i in range(n):\n",
    "    for j in range(n):\n",
    "        if i==j:\n",
    "            A[i,j]=2/(i+j+1)\n",
    "\n",
    "def Y(i):\n",
    "    polynomial = sp.legendre(i, x)\n",
    "    a=polynomial*(sp.cos(pi*x/2))\n",
    "    integral=sp.integrate(a, (x, -1, 1))\n",
    "    return integral\n",
    "b=np.zeros(n)\n",
    "for i in range(n):\n",
    "    b[i]=Y(i)\n",
    "np.linalg.inv(A)@b\n",
    "#勒让德多项式得到的系数，注意将t换成x，其结果是一样的"
   ],
   "metadata": {
    "collapsed": false
   }
  }
 ],
 "metadata": {
  "kernelspec": {
   "display_name": "Python 3",
   "language": "python",
   "name": "python3"
  },
  "language_info": {
   "codemirror_mode": {
    "name": "ipython",
    "version": 2
   },
   "file_extension": ".py",
   "mimetype": "text/x-python",
   "name": "python",
   "nbconvert_exporter": "python",
   "pygments_lexer": "ipython2",
   "version": "2.7.6"
  }
 },
 "nbformat": 4,
 "nbformat_minor": 0
}
